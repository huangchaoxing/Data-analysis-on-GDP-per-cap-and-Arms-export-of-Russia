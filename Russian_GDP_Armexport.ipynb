{
 "cells": [
  {
   "cell_type": "code",
   "execution_count": 2,
   "metadata": {},
   "outputs": [],
   "source": [
    "# Data Source: https://www.kaggle.com/worldbank/world-development-indicators\n",
    "# Folder: 'world-development-indicators'"
   ]
  },
  {
   "cell_type": "markdown",
   "metadata": {},
   "source": [
    "<br><p style=\"font-family: Arial; font-size:3.75em;color:purple; font-style:bold\">\n",
    "Matplotlib: Exploring <br> <br> <br>Data Visualization</p><br><br>"
   ]
  },
  {
   "cell_type": "markdown",
   "metadata": {},
   "source": [
    "<br><br><center><h1 style=\"font-size:2em;color:#2467C0\">World Development Indicators</h1></center>\n",
    "<br>\n",
    "<table>\n",
    "<col width=\"550\">\n",
    "<col width=\"450\">\n",
    "<tr>\n",
    "<td><img src=\"https://upload.wikimedia.org/wikipedia/commons/4/46/North_South_divide.svg\" align=\"middle\" style=\"width:550px;height:360px;\"/></td>\n",
    "<td>\n",
    "This week, we will be using an open dataset from <a href=\"https://www.kaggle.com\">Kaggle</a>. It is  <a href=\"https://www.kaggle.com/worldbank/world-development-indicators\">The World Development Indicators</a> dataset obtained from the World Bank containing over a thousand annual indicators of economic development from hundreds of countries around the world.\n",
    "<br>\n",
    "<br>\n",
    "This is a slightly modified version of the original dataset from <a href=\"http://data.worldbank.org/data-catalog/world-development-indicators\">The World Bank</a>\n",
    "<br>\n",
    "<br>\n",
    "List of the <a href=\"https://www.kaggle.com/benhamner/d/worldbank/world-development-indicators/indicators-in-data\">available indicators</a> and a <a href=\"https://www.kaggle.com/benhamner/d/worldbank/world-development-indicators/countries-in-the-wdi-data\">list of the available countries</a>.\n",
    "</td>\n",
    "</tr>\n",
    "</table>"
   ]
  },
  {
   "cell_type": "markdown",
   "metadata": {},
   "source": [
    "# Step 1: Initial exploration of the Dataset"
   ]
  },
  {
   "cell_type": "code",
   "execution_count": 3,
   "metadata": {},
   "outputs": [],
   "source": [
    "import pandas as pd\n",
    "import numpy as np\n",
    "import random\n",
    "import matplotlib.pyplot as plt"
   ]
  },
  {
   "cell_type": "code",
   "execution_count": 5,
   "metadata": {},
   "outputs": [
    {
     "data": {
      "text/plain": [
       "(5656458, 6)"
      ]
     },
     "execution_count": 5,
     "metadata": {},
     "output_type": "execute_result"
    }
   ],
   "source": [
    "data = pd.read_csv('Indicators.csv')\n",
    "data.shape"
   ]
  },
  {
   "cell_type": "markdown",
   "metadata": {},
   "source": [
    "This is a really large dataset, at least in terms of the number of rows.  But with 6 columns, what does this hold?"
   ]
  },
  {
   "cell_type": "code",
   "execution_count": 6,
   "metadata": {},
   "outputs": [
    {
     "data": {
      "text/html": [
       "<div>\n",
       "<style scoped>\n",
       "    .dataframe tbody tr th:only-of-type {\n",
       "        vertical-align: middle;\n",
       "    }\n",
       "\n",
       "    .dataframe tbody tr th {\n",
       "        vertical-align: top;\n",
       "    }\n",
       "\n",
       "    .dataframe thead th {\n",
       "        text-align: right;\n",
       "    }\n",
       "</style>\n",
       "<table border=\"1\" class=\"dataframe\">\n",
       "  <thead>\n",
       "    <tr style=\"text-align: right;\">\n",
       "      <th></th>\n",
       "      <th>CountryName</th>\n",
       "      <th>CountryCode</th>\n",
       "      <th>IndicatorName</th>\n",
       "      <th>IndicatorCode</th>\n",
       "      <th>Year</th>\n",
       "      <th>Value</th>\n",
       "    </tr>\n",
       "  </thead>\n",
       "  <tbody>\n",
       "    <tr>\n",
       "      <th>0</th>\n",
       "      <td>Arab World</td>\n",
       "      <td>ARB</td>\n",
       "      <td>Adolescent fertility rate (births per 1,000 wo...</td>\n",
       "      <td>SP.ADO.TFRT</td>\n",
       "      <td>1960</td>\n",
       "      <td>1.335609e+02</td>\n",
       "    </tr>\n",
       "    <tr>\n",
       "      <th>1</th>\n",
       "      <td>Arab World</td>\n",
       "      <td>ARB</td>\n",
       "      <td>Age dependency ratio (% of working-age populat...</td>\n",
       "      <td>SP.POP.DPND</td>\n",
       "      <td>1960</td>\n",
       "      <td>8.779760e+01</td>\n",
       "    </tr>\n",
       "    <tr>\n",
       "      <th>2</th>\n",
       "      <td>Arab World</td>\n",
       "      <td>ARB</td>\n",
       "      <td>Age dependency ratio, old (% of working-age po...</td>\n",
       "      <td>SP.POP.DPND.OL</td>\n",
       "      <td>1960</td>\n",
       "      <td>6.634579e+00</td>\n",
       "    </tr>\n",
       "    <tr>\n",
       "      <th>3</th>\n",
       "      <td>Arab World</td>\n",
       "      <td>ARB</td>\n",
       "      <td>Age dependency ratio, young (% of working-age ...</td>\n",
       "      <td>SP.POP.DPND.YG</td>\n",
       "      <td>1960</td>\n",
       "      <td>8.102333e+01</td>\n",
       "    </tr>\n",
       "    <tr>\n",
       "      <th>4</th>\n",
       "      <td>Arab World</td>\n",
       "      <td>ARB</td>\n",
       "      <td>Arms exports (SIPRI trend indicator values)</td>\n",
       "      <td>MS.MIL.XPRT.KD</td>\n",
       "      <td>1960</td>\n",
       "      <td>3.000000e+06</td>\n",
       "    </tr>\n",
       "    <tr>\n",
       "      <th>5</th>\n",
       "      <td>Arab World</td>\n",
       "      <td>ARB</td>\n",
       "      <td>Arms imports (SIPRI trend indicator values)</td>\n",
       "      <td>MS.MIL.MPRT.KD</td>\n",
       "      <td>1960</td>\n",
       "      <td>5.380000e+08</td>\n",
       "    </tr>\n",
       "    <tr>\n",
       "      <th>6</th>\n",
       "      <td>Arab World</td>\n",
       "      <td>ARB</td>\n",
       "      <td>Birth rate, crude (per 1,000 people)</td>\n",
       "      <td>SP.DYN.CBRT.IN</td>\n",
       "      <td>1960</td>\n",
       "      <td>4.769789e+01</td>\n",
       "    </tr>\n",
       "    <tr>\n",
       "      <th>7</th>\n",
       "      <td>Arab World</td>\n",
       "      <td>ARB</td>\n",
       "      <td>CO2 emissions (kt)</td>\n",
       "      <td>EN.ATM.CO2E.KT</td>\n",
       "      <td>1960</td>\n",
       "      <td>5.956399e+04</td>\n",
       "    </tr>\n",
       "    <tr>\n",
       "      <th>8</th>\n",
       "      <td>Arab World</td>\n",
       "      <td>ARB</td>\n",
       "      <td>CO2 emissions (metric tons per capita)</td>\n",
       "      <td>EN.ATM.CO2E.PC</td>\n",
       "      <td>1960</td>\n",
       "      <td>6.439635e-01</td>\n",
       "    </tr>\n",
       "    <tr>\n",
       "      <th>9</th>\n",
       "      <td>Arab World</td>\n",
       "      <td>ARB</td>\n",
       "      <td>CO2 emissions from gaseous fuel consumption (%...</td>\n",
       "      <td>EN.ATM.CO2E.GF.ZS</td>\n",
       "      <td>1960</td>\n",
       "      <td>5.041292e+00</td>\n",
       "    </tr>\n",
       "  </tbody>\n",
       "</table>\n",
       "</div>"
      ],
      "text/plain": [
       "  CountryName CountryCode                                      IndicatorName  \\\n",
       "0  Arab World         ARB  Adolescent fertility rate (births per 1,000 wo...   \n",
       "1  Arab World         ARB  Age dependency ratio (% of working-age populat...   \n",
       "2  Arab World         ARB  Age dependency ratio, old (% of working-age po...   \n",
       "3  Arab World         ARB  Age dependency ratio, young (% of working-age ...   \n",
       "4  Arab World         ARB        Arms exports (SIPRI trend indicator values)   \n",
       "5  Arab World         ARB        Arms imports (SIPRI trend indicator values)   \n",
       "6  Arab World         ARB               Birth rate, crude (per 1,000 people)   \n",
       "7  Arab World         ARB                                 CO2 emissions (kt)   \n",
       "8  Arab World         ARB             CO2 emissions (metric tons per capita)   \n",
       "9  Arab World         ARB  CO2 emissions from gaseous fuel consumption (%...   \n",
       "\n",
       "       IndicatorCode  Year         Value  \n",
       "0        SP.ADO.TFRT  1960  1.335609e+02  \n",
       "1        SP.POP.DPND  1960  8.779760e+01  \n",
       "2     SP.POP.DPND.OL  1960  6.634579e+00  \n",
       "3     SP.POP.DPND.YG  1960  8.102333e+01  \n",
       "4     MS.MIL.XPRT.KD  1960  3.000000e+06  \n",
       "5     MS.MIL.MPRT.KD  1960  5.380000e+08  \n",
       "6     SP.DYN.CBRT.IN  1960  4.769789e+01  \n",
       "7     EN.ATM.CO2E.KT  1960  5.956399e+04  \n",
       "8     EN.ATM.CO2E.PC  1960  6.439635e-01  \n",
       "9  EN.ATM.CO2E.GF.ZS  1960  5.041292e+00  "
      ]
     },
     "execution_count": 6,
     "metadata": {},
     "output_type": "execute_result"
    }
   ],
   "source": [
    "data.head(10)"
   ]
  },
  {
   "cell_type": "markdown",
   "metadata": {},
   "source": [
    "Looks like it has different indicators for different countries with the year and value of the indicator. "
   ]
  },
  {
   "cell_type": "markdown",
   "metadata": {},
   "source": [
    "### How many UNIQUE country names are there ?"
   ]
  },
  {
   "cell_type": "code",
   "execution_count": 7,
   "metadata": {},
   "outputs": [
    {
     "data": {
      "text/plain": [
       "247"
      ]
     },
     "execution_count": 7,
     "metadata": {},
     "output_type": "execute_result"
    }
   ],
   "source": [
    "countries = data['CountryName'].unique().tolist()\n",
    "len(countries)"
   ]
  },
  {
   "cell_type": "markdown",
   "metadata": {},
   "source": [
    "### Are there same number of country codes ?"
   ]
  },
  {
   "cell_type": "code",
   "execution_count": 8,
   "metadata": {},
   "outputs": [
    {
     "data": {
      "text/plain": [
       "247"
      ]
     },
     "execution_count": 8,
     "metadata": {},
     "output_type": "execute_result"
    }
   ],
   "source": [
    "# How many unique country codes are there ? (should be the same #)\n",
    "countryCodes = data['CountryCode'].unique().tolist()\n",
    "len(countryCodes)"
   ]
  },
  {
   "cell_type": "markdown",
   "metadata": {},
   "source": [
    "### Are there many indicators or few ?"
   ]
  },
  {
   "cell_type": "code",
   "execution_count": 9,
   "metadata": {},
   "outputs": [
    {
     "data": {
      "text/plain": [
       "1344"
      ]
     },
     "execution_count": 9,
     "metadata": {},
     "output_type": "execute_result"
    }
   ],
   "source": [
    "# How many unique indicators are there ? (should be the same #)\n",
    "indicators = data['IndicatorName'].unique().tolist()\n",
    "len(indicators)"
   ]
  },
  {
   "cell_type": "markdown",
   "metadata": {},
   "source": [
    "### How many years of data do we have ?"
   ]
  },
  {
   "cell_type": "code",
   "execution_count": 10,
   "metadata": {},
   "outputs": [
    {
     "data": {
      "text/plain": [
       "56"
      ]
     },
     "execution_count": 10,
     "metadata": {},
     "output_type": "execute_result"
    }
   ],
   "source": [
    "# How many years of data do we have ?\n",
    "years = data['Year'].unique().tolist()\n",
    "len(years)"
   ]
  },
  {
   "cell_type": "markdown",
   "metadata": {},
   "source": [
    "### What's the range of years?"
   ]
  },
  {
   "cell_type": "code",
   "execution_count": 11,
   "metadata": {},
   "outputs": [
    {
     "name": "stdout",
     "output_type": "stream",
     "text": [
      "1960  to  2015\n"
     ]
    }
   ],
   "source": [
    "print(min(years),\" to \",max(years))"
   ]
  },
  {
   "cell_type": "markdown",
   "metadata": {},
   "source": [
    "<p style=\"font-family: Arial; font-size:2.5em;color:blue; font-style:bold\">\n",
    "Matplotlib: Basic Plotting, Part 1</p><br>"
   ]
  },
  {
   "cell_type": "markdown",
   "metadata": {},
   "source": [
    "### Lets pick a country and an indicator to explore: Russia's arm export"
   ]
  },
  {
   "cell_type": "code",
   "execution_count": 14,
   "metadata": {},
   "outputs": [],
   "source": [
    "# select Arm's export for the Russia\n",
    "hist_indicator = 'Arms export'\n",
    "hist_country = 'RUS'\n",
    "\n",
    "mask1 = data['IndicatorName'].str.contains(hist_indicator) \n",
    "mask2 = data['CountryCode'].str.contains(hist_country)\n",
    "\n",
    "# stage is just those indicators matching the Russia for country code and arm export over time.\n",
    "stage = data[mask1 & mask2]"
   ]
  },
  {
   "cell_type": "code",
   "execution_count": 15,
   "metadata": {},
   "outputs": [
    {
     "data": {
      "text/html": [
       "<div>\n",
       "<style scoped>\n",
       "    .dataframe tbody tr th:only-of-type {\n",
       "        vertical-align: middle;\n",
       "    }\n",
       "\n",
       "    .dataframe tbody tr th {\n",
       "        vertical-align: top;\n",
       "    }\n",
       "\n",
       "    .dataframe thead th {\n",
       "        text-align: right;\n",
       "    }\n",
       "</style>\n",
       "<table border=\"1\" class=\"dataframe\">\n",
       "  <thead>\n",
       "    <tr style=\"text-align: right;\">\n",
       "      <th></th>\n",
       "      <th>CountryName</th>\n",
       "      <th>CountryCode</th>\n",
       "      <th>IndicatorName</th>\n",
       "      <th>IndicatorCode</th>\n",
       "      <th>Year</th>\n",
       "      <th>Value</th>\n",
       "    </tr>\n",
       "  </thead>\n",
       "  <tbody>\n",
       "    <tr>\n",
       "      <th>2208738</th>\n",
       "      <td>Russian Federation</td>\n",
       "      <td>RUS</td>\n",
       "      <td>Arms exports (SIPRI trend indicator values)</td>\n",
       "      <td>MS.MIL.XPRT.KD</td>\n",
       "      <td>1992</td>\n",
       "      <td>2.613000e+09</td>\n",
       "    </tr>\n",
       "    <tr>\n",
       "      <th>2331884</th>\n",
       "      <td>Russian Federation</td>\n",
       "      <td>RUS</td>\n",
       "      <td>Arms exports (SIPRI trend indicator values)</td>\n",
       "      <td>MS.MIL.XPRT.KD</td>\n",
       "      <td>1993</td>\n",
       "      <td>3.442000e+09</td>\n",
       "    </tr>\n",
       "    <tr>\n",
       "      <th>2457110</th>\n",
       "      <td>Russian Federation</td>\n",
       "      <td>RUS</td>\n",
       "      <td>Arms exports (SIPRI trend indicator values)</td>\n",
       "      <td>MS.MIL.XPRT.KD</td>\n",
       "      <td>1994</td>\n",
       "      <td>1.521000e+09</td>\n",
       "    </tr>\n",
       "    <tr>\n",
       "      <th>2590039</th>\n",
       "      <td>Russian Federation</td>\n",
       "      <td>RUS</td>\n",
       "      <td>Arms exports (SIPRI trend indicator values)</td>\n",
       "      <td>MS.MIL.XPRT.KD</td>\n",
       "      <td>1995</td>\n",
       "      <td>3.900000e+09</td>\n",
       "    </tr>\n",
       "    <tr>\n",
       "      <th>2725043</th>\n",
       "      <td>Russian Federation</td>\n",
       "      <td>RUS</td>\n",
       "      <td>Arms exports (SIPRI trend indicator values)</td>\n",
       "      <td>MS.MIL.XPRT.KD</td>\n",
       "      <td>1996</td>\n",
       "      <td>3.539000e+09</td>\n",
       "    </tr>\n",
       "  </tbody>\n",
       "</table>\n",
       "</div>"
      ],
      "text/plain": [
       "                CountryName CountryCode  \\\n",
       "2208738  Russian Federation         RUS   \n",
       "2331884  Russian Federation         RUS   \n",
       "2457110  Russian Federation         RUS   \n",
       "2590039  Russian Federation         RUS   \n",
       "2725043  Russian Federation         RUS   \n",
       "\n",
       "                                       IndicatorName   IndicatorCode  Year  \\\n",
       "2208738  Arms exports (SIPRI trend indicator values)  MS.MIL.XPRT.KD  1992   \n",
       "2331884  Arms exports (SIPRI trend indicator values)  MS.MIL.XPRT.KD  1993   \n",
       "2457110  Arms exports (SIPRI trend indicator values)  MS.MIL.XPRT.KD  1994   \n",
       "2590039  Arms exports (SIPRI trend indicator values)  MS.MIL.XPRT.KD  1995   \n",
       "2725043  Arms exports (SIPRI trend indicator values)  MS.MIL.XPRT.KD  1996   \n",
       "\n",
       "                Value  \n",
       "2208738  2.613000e+09  \n",
       "2331884  3.442000e+09  \n",
       "2457110  1.521000e+09  \n",
       "2590039  3.900000e+09  \n",
       "2725043  3.539000e+09  "
      ]
     },
     "execution_count": 15,
     "metadata": {},
     "output_type": "execute_result"
    }
   ],
   "source": [
    "stage.head()"
   ]
  },
  {
   "cell_type": "markdown",
   "metadata": {},
   "source": [
    "### Let's see how emissions have changed over time using MatplotLib"
   ]
  },
  {
   "cell_type": "code",
   "execution_count": 16,
   "metadata": {},
   "outputs": [
    {
     "data": {
      "image/png": "[encoded data removed]",
      "text/plain": [
       "<Figure size 432x288 with 1 Axes>"
      ]
     },
     "metadata": {},
     "output_type": "display_data"
    }
   ],
   "source": [
    "# get the years\n",
    "years = stage['Year'].values\n",
    "# get the values \n",
    "Arm_ex = stage['Value'].values\n",
    "\n",
    "# create\n",
    "plt.bar(years,Arm_ex)\n",
    "plt.show()"
   ]
  },
  {
   "cell_type": "markdown",
   "metadata": {},
   "source": [
    "Turns out emissions per capita have dropped a bit over time, but let's make this graphic a bit more appealing before we continue to explore it."
   ]
  },
  {
   "cell_type": "code",
   "execution_count": 20,
   "metadata": {},
   "outputs": [
    {
     "data": {
      "image/png": "[encoded data removed]",
      "text/plain": [
       "<Figure size 432x288 with 1 Axes>"
      ]
     },
     "metadata": {},
     "output_type": "display_data"
    }
   ],
   "source": [
    "# switch to a line plot\n",
    "plt.plot(stage['Year'].values, stage['Value'].values)\n",
    "\n",
    "# Label the axes\n",
    "plt.xlabel('Year')\n",
    "plt.ylabel(stage['IndicatorName'].iloc[0])\n",
    "\n",
    "#label the figure\n",
    "plt.title('Arms export of Russia')\n",
    "\n",
    "# to make more honest, start they y axis at 0\n",
    "plt.axis([1992, 2015,0,10e+9])\n",
    "\n",
    "plt.show()"
   ]
  },
  {
   "cell_type": "markdown",
   "metadata": {},
   "source": [
    "### Using Histograms to explore the distribution of values\n",
    "We could also visualize this data as a histogram to better explore the ranges of values of arms export per year. "
   ]
  },
  {
   "cell_type": "code",
   "execution_count": 21,
   "metadata": {},
   "outputs": [
    {
     "name": "stdout",
     "output_type": "stream",
     "text": [
      "[2.613e+09 3.442e+09 1.521e+09 3.900e+09 3.539e+09 3.353e+09 2.046e+09\n",
      " 4.264e+09 4.546e+09 5.427e+09 5.635e+09 5.307e+09 6.250e+09 5.227e+09\n",
      " 5.113e+09 5.561e+09 6.264e+09 5.102e+09 5.993e+09 8.556e+09 8.402e+09\n",
      " 8.462e+09 5.971e+09]\n"
     ]
    }
   ],
   "source": [
    "# If you want to just include those within one standard deviation fo the mean, you could do the following\n",
    "# lower = stage['Value'].mean() - stage['Value'].std()\n",
    "# upper = stage['Value'].mean() + stage['Value'].std()\n",
    "# hist_data = [x for x in stage[:10000]['Value'] if x>lower and x<upper ]\n",
    "\n",
    "# Otherwise, let's look at all the data\n",
    "hist_data = stage['Value'].values\n",
    "print(hist_data)"
   ]
  },
  {
   "cell_type": "code",
   "execution_count": 22,
   "metadata": {},
   "outputs": [
    {
     "name": "stdout",
     "output_type": "stream",
     "text": [
      "23\n"
     ]
    }
   ],
   "source": [
    "print(len(hist_data))"
   ]
  },
  {
   "cell_type": "code",
   "execution_count": 25,
   "metadata": {
    "scrolled": true
   },
   "outputs": [
    {
     "name": "stderr",
     "output_type": "stream",
     "text": [
      "C:\\Users\\HP\\Anaconda3\\lib\\site-packages\\matplotlib\\axes\\_axes.py:6462: UserWarning: The 'normed' kwarg is deprecated, and has been replaced by the 'density' kwarg.\n",
      "  warnings.warn(\"The 'normed' kwarg is deprecated, and has been \"\n"
     ]
    },
    {
     "data": {
      "image/png": "[encoded data removed]",
      "text/plain": [
       "<Figure size 432x288 with 1 Axes>"
      ]
     },
     "metadata": {},
     "output_type": "display_data"
    }
   ],
   "source": [
    "# the histogram of the data\n",
    "plt.hist(hist_data, 15, normed=False, facecolor='green')\n",
    "\n",
    "plt.xlabel(stage['IndicatorName'].iloc[0])\n",
    "plt.ylabel('# of Years')\n",
    "plt.title('Histogram Example')\n",
    "\n",
    "plt.grid(True)\n",
    "\n",
    "plt.show()"
   ]
  },
  {
   "cell_type": "markdown",
   "metadata": {},
   "source": [
    "So Russia has many years where it has an arm export between 5*1e+9 to about 6.7*1e+9.While there are 3 years of values that outlie at the range of over 8*1e9"
   ]
  },
  {
   "cell_type": "markdown",
   "metadata": {},
   "source": [
    "### But how do Russia's arms export relate to those of other countries? "
   ]
  },
  {
   "cell_type": "code",
   "execution_count": 57,
   "metadata": {},
   "outputs": [
    {
     "data": {
      "text/html": [
       "<div>\n",
       "<style scoped>\n",
       "    .dataframe tbody tr th:only-of-type {\n",
       "        vertical-align: middle;\n",
       "    }\n",
       "\n",
       "    .dataframe tbody tr th {\n",
       "        vertical-align: top;\n",
       "    }\n",
       "\n",
       "    .dataframe thead th {\n",
       "        text-align: right;\n",
       "    }\n",
       "</style>\n",
       "<table border=\"1\" class=\"dataframe\">\n",
       "  <thead>\n",
       "    <tr style=\"text-align: right;\">\n",
       "      <th></th>\n",
       "      <th>CountryName</th>\n",
       "      <th>CountryCode</th>\n",
       "      <th>IndicatorName</th>\n",
       "      <th>IndicatorCode</th>\n",
       "      <th>Year</th>\n",
       "      <th>Value</th>\n",
       "    </tr>\n",
       "  </thead>\n",
       "  <tbody>\n",
       "    <tr>\n",
       "      <th>5028428</th>\n",
       "      <td>East Asia &amp; Pacific (developing only)</td>\n",
       "      <td>EAP</td>\n",
       "      <td>Arms exports (SIPRI trend indicator values)</td>\n",
       "      <td>MS.MIL.XPRT.KD</td>\n",
       "      <td>2011</td>\n",
       "      <td>1.344000e+09</td>\n",
       "    </tr>\n",
       "    <tr>\n",
       "      <th>5029212</th>\n",
       "      <td>Euro area</td>\n",
       "      <td>EMU</td>\n",
       "      <td>Arms exports (SIPRI trend indicator values)</td>\n",
       "      <td>MS.MIL.XPRT.KD</td>\n",
       "      <td>2011</td>\n",
       "      <td>6.241000e+09</td>\n",
       "    </tr>\n",
       "    <tr>\n",
       "      <th>5029780</th>\n",
       "      <td>Europe &amp; Central Asia (all income levels)</td>\n",
       "      <td>ECS</td>\n",
       "      <td>Arms exports (SIPRI trend indicator values)</td>\n",
       "      <td>MS.MIL.XPRT.KD</td>\n",
       "      <td>2011</td>\n",
       "      <td>1.797500e+10</td>\n",
       "    </tr>\n",
       "    <tr>\n",
       "      <th>5030427</th>\n",
       "      <td>Europe &amp; Central Asia (developing only)</td>\n",
       "      <td>ECA</td>\n",
       "      <td>Arms exports (SIPRI trend indicator values)</td>\n",
       "      <td>MS.MIL.XPRT.KD</td>\n",
       "      <td>2011</td>\n",
       "      <td>9.570000e+08</td>\n",
       "    </tr>\n",
       "    <tr>\n",
       "      <th>5031294</th>\n",
       "      <td>European Union</td>\n",
       "      <td>EUU</td>\n",
       "      <td>Arms exports (SIPRI trend indicator values)</td>\n",
       "      <td>MS.MIL.XPRT.KD</td>\n",
       "      <td>2011</td>\n",
       "      <td>7.998000e+09</td>\n",
       "    </tr>\n",
       "    <tr>\n",
       "      <th>5032943</th>\n",
       "      <td>High income</td>\n",
       "      <td>HIC</td>\n",
       "      <td>Arms exports (SIPRI trend indicator values)</td>\n",
       "      <td>MS.MIL.XPRT.KD</td>\n",
       "      <td>2011</td>\n",
       "      <td>2.761400e+10</td>\n",
       "    </tr>\n",
       "    <tr>\n",
       "      <th>5034118</th>\n",
       "      <td>High income: OECD</td>\n",
       "      <td>OEC</td>\n",
       "      <td>Arms exports (SIPRI trend indicator values)</td>\n",
       "      <td>MS.MIL.XPRT.KD</td>\n",
       "      <td>2011</td>\n",
       "      <td>1.895500e+10</td>\n",
       "    </tr>\n",
       "    <tr>\n",
       "      <th>5041297</th>\n",
       "      <td>North America</td>\n",
       "      <td>NAC</td>\n",
       "      <td>Arms exports (SIPRI trend indicator values)</td>\n",
       "      <td>MS.MIL.XPRT.KD</td>\n",
       "      <td>2011</td>\n",
       "      <td>9.432000e+09</td>\n",
       "    </tr>\n",
       "    <tr>\n",
       "      <th>5041831</th>\n",
       "      <td>OECD members</td>\n",
       "      <td>OED</td>\n",
       "      <td>Arms exports (SIPRI trend indicator values)</td>\n",
       "      <td>MS.MIL.XPRT.KD</td>\n",
       "      <td>2011</td>\n",
       "      <td>1.904100e+10</td>\n",
       "    </tr>\n",
       "    <tr>\n",
       "      <th>5043889</th>\n",
       "      <td>South Asia</td>\n",
       "      <td>SAS</td>\n",
       "      <td>Arms exports (SIPRI trend indicator values)</td>\n",
       "      <td>MS.MIL.XPRT.KD</td>\n",
       "      <td>2011</td>\n",
       "      <td>3.000000e+06</td>\n",
       "    </tr>\n",
       "    <tr>\n",
       "      <th>5048374</th>\n",
       "      <td>Albania</td>\n",
       "      <td>ALB</td>\n",
       "      <td>Arms exports (SIPRI trend indicator values)</td>\n",
       "      <td>MS.MIL.XPRT.KD</td>\n",
       "      <td>2011</td>\n",
       "      <td>0.000000e+00</td>\n",
       "    </tr>\n",
       "    <tr>\n",
       "      <th>5051828</th>\n",
       "      <td>Argentina</td>\n",
       "      <td>ARG</td>\n",
       "      <td>Arms exports (SIPRI trend indicator values)</td>\n",
       "      <td>MS.MIL.XPRT.KD</td>\n",
       "      <td>2011</td>\n",
       "      <td>1.000000e+06</td>\n",
       "    </tr>\n",
       "    <tr>\n",
       "      <th>5053906</th>\n",
       "      <td>Australia</td>\n",
       "      <td>AUS</td>\n",
       "      <td>Arms exports (SIPRI trend indicator values)</td>\n",
       "      <td>MS.MIL.XPRT.KD</td>\n",
       "      <td>2011</td>\n",
       "      <td>1.430000e+08</td>\n",
       "    </tr>\n",
       "    <tr>\n",
       "      <th>5054615</th>\n",
       "      <td>Austria</td>\n",
       "      <td>AUT</td>\n",
       "      <td>Arms exports (SIPRI trend indicator values)</td>\n",
       "      <td>MS.MIL.XPRT.KD</td>\n",
       "      <td>2011</td>\n",
       "      <td>4.600000e+07</td>\n",
       "    </tr>\n",
       "    <tr>\n",
       "      <th>5058961</th>\n",
       "      <td>Belarus</td>\n",
       "      <td>BLR</td>\n",
       "      <td>Arms exports (SIPRI trend indicator values)</td>\n",
       "      <td>MS.MIL.XPRT.KD</td>\n",
       "      <td>2011</td>\n",
       "      <td>9.700000e+07</td>\n",
       "    </tr>\n",
       "    <tr>\n",
       "      <th>5059942</th>\n",
       "      <td>Belgium</td>\n",
       "      <td>BEL</td>\n",
       "      <td>Arms exports (SIPRI trend indicator values)</td>\n",
       "      <td>MS.MIL.XPRT.KD</td>\n",
       "      <td>2011</td>\n",
       "      <td>1.110000e+08</td>\n",
       "    </tr>\n",
       "    <tr>\n",
       "      <th>5064753</th>\n",
       "      <td>Bosnia and Herzegovina</td>\n",
       "      <td>BIH</td>\n",
       "      <td>Arms exports (SIPRI trend indicator values)</td>\n",
       "      <td>MS.MIL.XPRT.KD</td>\n",
       "      <td>2011</td>\n",
       "      <td>1.400000e+07</td>\n",
       "    </tr>\n",
       "    <tr>\n",
       "      <th>5066531</th>\n",
       "      <td>Brazil</td>\n",
       "      <td>BRA</td>\n",
       "      <td>Arms exports (SIPRI trend indicator values)</td>\n",
       "      <td>MS.MIL.XPRT.KD</td>\n",
       "      <td>2011</td>\n",
       "      <td>3.100000e+07</td>\n",
       "    </tr>\n",
       "    <tr>\n",
       "      <th>5067557</th>\n",
       "      <td>Brunei Darussalam</td>\n",
       "      <td>BRN</td>\n",
       "      <td>Arms exports (SIPRI trend indicator values)</td>\n",
       "      <td>MS.MIL.XPRT.KD</td>\n",
       "      <td>2011</td>\n",
       "      <td>2.400000e+07</td>\n",
       "    </tr>\n",
       "    <tr>\n",
       "      <th>5068069</th>\n",
       "      <td>Bulgaria</td>\n",
       "      <td>BGR</td>\n",
       "      <td>Arms exports (SIPRI trend indicator values)</td>\n",
       "      <td>MS.MIL.XPRT.KD</td>\n",
       "      <td>2011</td>\n",
       "      <td>2.000000e+06</td>\n",
       "    </tr>\n",
       "    <tr>\n",
       "      <th>5073617</th>\n",
       "      <td>Canada</td>\n",
       "      <td>CAN</td>\n",
       "      <td>Arms exports (SIPRI trend indicator values)</td>\n",
       "      <td>MS.MIL.XPRT.KD</td>\n",
       "      <td>2011</td>\n",
       "      <td>3.210000e+08</td>\n",
       "    </tr>\n",
       "    <tr>\n",
       "      <th>5076904</th>\n",
       "      <td>China</td>\n",
       "      <td>CHN</td>\n",
       "      <td>Arms exports (SIPRI trend indicator values)</td>\n",
       "      <td>MS.MIL.XPRT.KD</td>\n",
       "      <td>2011</td>\n",
       "      <td>1.336000e+09</td>\n",
       "    </tr>\n",
       "    <tr>\n",
       "      <th>5085336</th>\n",
       "      <td>Czech Republic</td>\n",
       "      <td>CZE</td>\n",
       "      <td>Arms exports (SIPRI trend indicator values)</td>\n",
       "      <td>MS.MIL.XPRT.KD</td>\n",
       "      <td>2011</td>\n",
       "      <td>1.100000e+07</td>\n",
       "    </tr>\n",
       "    <tr>\n",
       "      <th>5086113</th>\n",
       "      <td>Denmark</td>\n",
       "      <td>DNK</td>\n",
       "      <td>Arms exports (SIPRI trend indicator values)</td>\n",
       "      <td>MS.MIL.XPRT.KD</td>\n",
       "      <td>2011</td>\n",
       "      <td>2.100000e+07</td>\n",
       "    </tr>\n",
       "    <tr>\n",
       "      <th>5096078</th>\n",
       "      <td>Finland</td>\n",
       "      <td>FIN</td>\n",
       "      <td>Arms exports (SIPRI trend indicator values)</td>\n",
       "      <td>MS.MIL.XPRT.KD</td>\n",
       "      <td>2011</td>\n",
       "      <td>4.000000e+07</td>\n",
       "    </tr>\n",
       "  </tbody>\n",
       "</table>\n",
       "</div>"
      ],
      "text/plain": [
       "                                       CountryName CountryCode  \\\n",
       "5028428      East Asia & Pacific (developing only)         EAP   \n",
       "5029212                                  Euro area         EMU   \n",
       "5029780  Europe & Central Asia (all income levels)         ECS   \n",
       "5030427    Europe & Central Asia (developing only)         ECA   \n",
       "5031294                             European Union         EUU   \n",
       "5032943                                High income         HIC   \n",
       "5034118                          High income: OECD         OEC   \n",
       "5041297                              North America         NAC   \n",
       "5041831                               OECD members         OED   \n",
       "5043889                                 South Asia         SAS   \n",
       "5048374                                    Albania         ALB   \n",
       "5051828                                  Argentina         ARG   \n",
       "5053906                                  Australia         AUS   \n",
       "5054615                                    Austria         AUT   \n",
       "5058961                                    Belarus         BLR   \n",
       "5059942                                    Belgium         BEL   \n",
       "5064753                     Bosnia and Herzegovina         BIH   \n",
       "5066531                                     Brazil         BRA   \n",
       "5067557                          Brunei Darussalam         BRN   \n",
       "5068069                                   Bulgaria         BGR   \n",
       "5073617                                     Canada         CAN   \n",
       "5076904                                      China         CHN   \n",
       "5085336                             Czech Republic         CZE   \n",
       "5086113                                    Denmark         DNK   \n",
       "5096078                                    Finland         FIN   \n",
       "\n",
       "                                       IndicatorName   IndicatorCode  Year  \\\n",
       "5028428  Arms exports (SIPRI trend indicator values)  MS.MIL.XPRT.KD  2011   \n",
       "5029212  Arms exports (SIPRI trend indicator values)  MS.MIL.XPRT.KD  2011   \n",
       "5029780  Arms exports (SIPRI trend indicator values)  MS.MIL.XPRT.KD  2011   \n",
       "5030427  Arms exports (SIPRI trend indicator values)  MS.MIL.XPRT.KD  2011   \n",
       "5031294  Arms exports (SIPRI trend indicator values)  MS.MIL.XPRT.KD  2011   \n",
       "5032943  Arms exports (SIPRI trend indicator values)  MS.MIL.XPRT.KD  2011   \n",
       "5034118  Arms exports (SIPRI trend indicator values)  MS.MIL.XPRT.KD  2011   \n",
       "5041297  Arms exports (SIPRI trend indicator values)  MS.MIL.XPRT.KD  2011   \n",
       "5041831  Arms exports (SIPRI trend indicator values)  MS.MIL.XPRT.KD  2011   \n",
       "5043889  Arms exports (SIPRI trend indicator values)  MS.MIL.XPRT.KD  2011   \n",
       "5048374  Arms exports (SIPRI trend indicator values)  MS.MIL.XPRT.KD  2011   \n",
       "5051828  Arms exports (SIPRI trend indicator values)  MS.MIL.XPRT.KD  2011   \n",
       "5053906  Arms exports (SIPRI trend indicator values)  MS.MIL.XPRT.KD  2011   \n",
       "5054615  Arms exports (SIPRI trend indicator values)  MS.MIL.XPRT.KD  2011   \n",
       "5058961  Arms exports (SIPRI trend indicator values)  MS.MIL.XPRT.KD  2011   \n",
       "5059942  Arms exports (SIPRI trend indicator values)  MS.MIL.XPRT.KD  2011   \n",
       "5064753  Arms exports (SIPRI trend indicator values)  MS.MIL.XPRT.KD  2011   \n",
       "5066531  Arms exports (SIPRI trend indicator values)  MS.MIL.XPRT.KD  2011   \n",
       "5067557  Arms exports (SIPRI trend indicator values)  MS.MIL.XPRT.KD  2011   \n",
       "5068069  Arms exports (SIPRI trend indicator values)  MS.MIL.XPRT.KD  2011   \n",
       "5073617  Arms exports (SIPRI trend indicator values)  MS.MIL.XPRT.KD  2011   \n",
       "5076904  Arms exports (SIPRI trend indicator values)  MS.MIL.XPRT.KD  2011   \n",
       "5085336  Arms exports (SIPRI trend indicator values)  MS.MIL.XPRT.KD  2011   \n",
       "5086113  Arms exports (SIPRI trend indicator values)  MS.MIL.XPRT.KD  2011   \n",
       "5096078  Arms exports (SIPRI trend indicator values)  MS.MIL.XPRT.KD  2011   \n",
       "\n",
       "                Value  \n",
       "5028428  1.344000e+09  \n",
       "5029212  6.241000e+09  \n",
       "5029780  1.797500e+10  \n",
       "5030427  9.570000e+08  \n",
       "5031294  7.998000e+09  \n",
       "5032943  2.761400e+10  \n",
       "5034118  1.895500e+10  \n",
       "5041297  9.432000e+09  \n",
       "5041831  1.904100e+10  \n",
       "5043889  3.000000e+06  \n",
       "5048374  0.000000e+00  \n",
       "5051828  1.000000e+06  \n",
       "5053906  1.430000e+08  \n",
       "5054615  4.600000e+07  \n",
       "5058961  9.700000e+07  \n",
       "5059942  1.110000e+08  \n",
       "5064753  1.400000e+07  \n",
       "5066531  3.100000e+07  \n",
       "5067557  2.400000e+07  \n",
       "5068069  2.000000e+06  \n",
       "5073617  3.210000e+08  \n",
       "5076904  1.336000e+09  \n",
       "5085336  1.100000e+07  \n",
       "5086113  2.100000e+07  \n",
       "5096078  4.000000e+07  "
      ]
     },
     "execution_count": 57,
     "metadata": {},
     "output_type": "execute_result"
    }
   ],
   "source": [
    "# select CO2 emissions for all countries in 2011\n",
    "hist_indicator = 'Arms export'\n",
    "hist_year = 2011\n",
    "\n",
    "mask1 = data['IndicatorName'].str.contains(hist_indicator) \n",
    "mask2 = data['Year'].isin([hist_year])\n",
    "\n",
    "# apply our mask\n",
    "Arm_ex_2011 = data[mask1 & mask2]\n",
    "Arm_ex_2011.head(n=25)"
   ]
  },
  {
   "cell_type": "markdown",
   "metadata": {},
   "source": [
    "For how many countries and region do we have arms_export data in 2011"
   ]
  },
  {
   "cell_type": "code",
   "execution_count": 58,
   "metadata": {},
   "outputs": [
    {
     "name": "stdout",
     "output_type": "stream",
     "text": [
      "54\n"
     ]
    }
   ],
   "source": [
    "print(len(Arm_ex_2011))"
   ]
  },
  {
   "cell_type": "code",
   "execution_count": 63,
   "metadata": {},
   "outputs": [
    {
     "name": "stdout",
     "output_type": "stream",
     "text": [
      "               CountryName CountryCode  \\\n",
      "5031294     European Union         EUU   \n",
      "5032943        High income         HIC   \n",
      "5034118  High income: OECD         OEC   \n",
      "5041297      North America         NAC   \n",
      "5041831       OECD members         OED   \n",
      "5043889         South Asia         SAS   \n",
      "5048374            Albania         ALB   \n",
      "5051828          Argentina         ARG   \n",
      "5053906          Australia         AUS   \n",
      "5054615            Austria         AUT   \n",
      "\n",
      "                                       IndicatorName   IndicatorCode  Year  \\\n",
      "5031294  Arms exports (SIPRI trend indicator values)  MS.MIL.XPRT.KD  2011   \n",
      "5032943  Arms exports (SIPRI trend indicator values)  MS.MIL.XPRT.KD  2011   \n",
      "5034118  Arms exports (SIPRI trend indicator values)  MS.MIL.XPRT.KD  2011   \n",
      "5041297  Arms exports (SIPRI trend indicator values)  MS.MIL.XPRT.KD  2011   \n",
      "5041831  Arms exports (SIPRI trend indicator values)  MS.MIL.XPRT.KD  2011   \n",
      "5043889  Arms exports (SIPRI trend indicator values)  MS.MIL.XPRT.KD  2011   \n",
      "5048374  Arms exports (SIPRI trend indicator values)  MS.MIL.XPRT.KD  2011   \n",
      "5051828  Arms exports (SIPRI trend indicator values)  MS.MIL.XPRT.KD  2011   \n",
      "5053906  Arms exports (SIPRI trend indicator values)  MS.MIL.XPRT.KD  2011   \n",
      "5054615  Arms exports (SIPRI trend indicator values)  MS.MIL.XPRT.KD  2011   \n",
      "\n",
      "                Value  \n",
      "5031294  7.998000e+09  \n",
      "5032943  2.761400e+10  \n",
      "5034118  1.895500e+10  \n",
      "5041297  9.432000e+09  \n",
      "5041831  1.904100e+10  \n",
      "5043889  3.000000e+06  \n",
      "5048374  0.000000e+00  \n",
      "5051828  1.000000e+06  \n",
      "5053906  1.430000e+08  \n",
      "5054615  4.600000e+07  \n"
     ]
    }
   ],
   "source": [
    "data_2011=Arm_ex_2011.drop(Arm_ex_2011.index[0:4])\n",
    "\n",
    "print(data_2011.head(n=10))"
   ]
  },
  {
   "cell_type": "code",
   "execution_count": 64,
   "metadata": {},
   "outputs": [
    {
     "name": "stdout",
     "output_type": "stream",
     "text": [
      "            CountryName CountryCode  \\\n",
      "5031294  European Union         EUU   \n",
      "5048374         Albania         ALB   \n",
      "5051828       Argentina         ARG   \n",
      "5053906       Australia         AUS   \n",
      "5054615         Austria         AUT   \n",
      "\n",
      "                                       IndicatorName   IndicatorCode  Year  \\\n",
      "5031294  Arms exports (SIPRI trend indicator values)  MS.MIL.XPRT.KD  2011   \n",
      "5048374  Arms exports (SIPRI trend indicator values)  MS.MIL.XPRT.KD  2011   \n",
      "5051828  Arms exports (SIPRI trend indicator values)  MS.MIL.XPRT.KD  2011   \n",
      "5053906  Arms exports (SIPRI trend indicator values)  MS.MIL.XPRT.KD  2011   \n",
      "5054615  Arms exports (SIPRI trend indicator values)  MS.MIL.XPRT.KD  2011   \n",
      "\n",
      "                Value  \n",
      "5031294  7.998000e+09  \n",
      "5048374  0.000000e+00  \n",
      "5051828  1.000000e+06  \n",
      "5053906  1.430000e+08  \n",
      "5054615  4.600000e+07  \n"
     ]
    }
   ],
   "source": [
    "data_2011=data_2011.drop(data_2011.index[1:6])\n",
    "\n",
    "print(data_2011.head())\n"
   ]
  },
  {
   "cell_type": "code",
   "execution_count": 68,
   "metadata": {},
   "outputs": [
    {
     "name": "stdout",
     "output_type": "stream",
     "text": [
      "                CountryName CountryCode  \\\n",
      "5163075  Russian Federation         RUS   \n",
      "\n",
      "                                       IndicatorName   IndicatorCode  Year  \\\n",
      "5163075  Arms exports (SIPRI trend indicator values)  MS.MIL.XPRT.KD  2011   \n",
      "\n",
      "                Value  \n",
      "5163075  8.556000e+09  \n"
     ]
    }
   ],
   "source": [
    "arm_ex_Rus=data_2011['CountryCode']=='RUS'\n",
    "data_Rus=data_2011[arm_ex_Rus]\n",
    "print(data_Rus)"
   ]
  },
  {
   "cell_type": "code",
   "execution_count": 73,
   "metadata": {},
   "outputs": [
    {
     "name": "stderr",
     "output_type": "stream",
     "text": [
      "C:\\Users\\HP\\Anaconda3\\lib\\site-packages\\matplotlib\\axes\\_axes.py:6462: UserWarning: The 'normed' kwarg is deprecated, and has been replaced by the 'density' kwarg.\n",
      "  warnings.warn(\"The 'normed' kwarg is deprecated, and has been \"\n"
     ]
    },
    {
     "data": {
      "image/png": "[encoded data removed]",
      "text/plain": [
       "<Figure size 432x288 with 1 Axes>"
      ]
     },
     "metadata": {},
     "output_type": "display_data"
    }
   ],
   "source": [
    "# let's plot a histogram of the arm_export by country\n",
    "\n",
    "# subplots returns a touple with the figure, axis attributes.\n",
    "fig, ax = plt.subplots()\n",
    "\n",
    "ax.annotate(\"Rus\",\n",
    "            xy=(0.855*1e+10,2), xycoords='data',\n",
    "            xytext=(0.855*1e+10, 20), textcoords='data',\n",
    "            arrowprops=dict(arrowstyle=\"->\",\n",
    "                            connectionstyle=\"arc3\"),\n",
    "            )\n",
    "           \n",
    "\n",
    "plt.hist(data_2011['Value'], 25, normed=False, facecolor='blue')\n",
    "\n",
    "plt.xlabel(stage['IndicatorName'].iloc[0])\n",
    "plt.ylabel('# of Countries')\n",
    "plt.title('Histogram of Arms export')\n",
    "\n",
    "#plt.axis([10, 22, 0, 14])\n",
    "plt.grid(True)\n",
    "\n",
    "plt.show()"
   ]
  },
  {
   "cell_type": "markdown",
   "metadata": {},
   "source": [
    "Interesting ! There are only few countries' arms export exceed 0.8*1e+10 and most of the countries fall a large lag behind those super powers, with the values that are less than 0.2*1e+10\n",
    "Russia,is almost at the top list among all the 54 countries.\n",
    "\n",
    "\n",
    "It is worth to explore the members in the top list!"
   ]
  },
  {
   "cell_type": "code",
   "execution_count": 78,
   "metadata": {},
   "outputs": [
    {
     "name": "stdout",
     "output_type": "stream",
     "text": [
      "                CountryName CountryCode  \\\n",
      "5031294      European Union         EUU   \n",
      "5163075  Russian Federation         RUS   \n",
      "5194700       United States         USA   \n",
      "\n",
      "                                       IndicatorName   IndicatorCode  Year  \\\n",
      "5031294  Arms exports (SIPRI trend indicator values)  MS.MIL.XPRT.KD  2011   \n",
      "5163075  Arms exports (SIPRI trend indicator values)  MS.MIL.XPRT.KD  2011   \n",
      "5194700  Arms exports (SIPRI trend indicator values)  MS.MIL.XPRT.KD  2011   \n",
      "\n",
      "                Value  \n",
      "5031294  7.998000e+09  \n",
      "5163075  8.556000e+09  \n",
      "5194700  9.111000e+09  \n"
     ]
    }
   ],
   "source": [
    "top=data_2011['Value']>=0.6*1e+10\n",
    "top_df=data_2011[top]\n",
    "print(top_df)"
   ]
  },
  {
   "cell_type": "markdown",
   "metadata": {},
   "source": [
    "USA,Russia and EUU are the top three."
   ]
  },
  {
   "cell_type": "markdown",
   "metadata": {},
   "source": [
    "### Relationship between GDP and Arms export in Rus"
   ]
  },
  {
   "cell_type": "code",
   "execution_count": 80,
   "metadata": {},
   "outputs": [],
   "source": [
    "# select GDP Per capita OF Rus\n",
    "hist_indicator = 'GDP per capita \\(constant 2005'\n",
    "hist_country = 'RUS'\n",
    "\n",
    "mask1 = data['IndicatorName'].str.contains(hist_indicator) \n",
    "mask2 = data['CountryCode'].str.contains(hist_country)\n",
    "\n",
    "# \n",
    "gdp_stage = data[mask1 & mask2]\n",
    "\n",
    "#plot gdp_stage vs stage"
   ]
  },
  {
   "cell_type": "code",
   "execution_count": 84,
   "metadata": {},
   "outputs": [
    {
     "data": {
      "text/html": [
       "<div>\n",
       "<style scoped>\n",
       "    .dataframe tbody tr th:only-of-type {\n",
       "        vertical-align: middle;\n",
       "    }\n",
       "\n",
       "    .dataframe tbody tr th {\n",
       "        vertical-align: top;\n",
       "    }\n",
       "\n",
       "    .dataframe thead th {\n",
       "        text-align: right;\n",
       "    }\n",
       "</style>\n",
       "<table border=\"1\" class=\"dataframe\">\n",
       "  <thead>\n",
       "    <tr style=\"text-align: right;\">\n",
       "      <th></th>\n",
       "      <th>CountryName</th>\n",
       "      <th>CountryCode</th>\n",
       "      <th>IndicatorName</th>\n",
       "      <th>IndicatorCode</th>\n",
       "      <th>Year</th>\n",
       "      <th>Value</th>\n",
       "    </tr>\n",
       "  </thead>\n",
       "  <tbody>\n",
       "    <tr>\n",
       "      <th>1860203</th>\n",
       "      <td>Russian Federation</td>\n",
       "      <td>RUS</td>\n",
       "      <td>GDP per capita (constant 2005 US$)</td>\n",
       "      <td>NY.GDP.PCAP.KD</td>\n",
       "      <td>1989</td>\n",
       "      <td>5883.652144</td>\n",
       "    </tr>\n",
       "    <tr>\n",
       "      <th>1972096</th>\n",
       "      <td>Russian Federation</td>\n",
       "      <td>RUS</td>\n",
       "      <td>GDP per capita (constant 2005 US$)</td>\n",
       "      <td>NY.GDP.PCAP.KD</td>\n",
       "      <td>1990</td>\n",
       "      <td>5685.167419</td>\n",
       "    </tr>\n",
       "  </tbody>\n",
       "</table>\n",
       "</div>"
      ],
      "text/plain": [
       "                CountryName CountryCode                       IndicatorName  \\\n",
       "1860203  Russian Federation         RUS  GDP per capita (constant 2005 US$)   \n",
       "1972096  Russian Federation         RUS  GDP per capita (constant 2005 US$)   \n",
       "\n",
       "          IndicatorCode  Year        Value  \n",
       "1860203  NY.GDP.PCAP.KD  1989  5883.652144  \n",
       "1972096  NY.GDP.PCAP.KD  1990  5685.167419  "
      ]
     },
     "execution_count": 84,
     "metadata": {},
     "output_type": "execute_result"
    }
   ],
   "source": [
    "gdp_stage.head(2)\n"
   ]
  },
  {
   "cell_type": "code",
   "execution_count": 82,
   "metadata": {},
   "outputs": [
    {
     "data": {
      "text/html": [
       "<div>\n",
       "<style scoped>\n",
       "    .dataframe tbody tr th:only-of-type {\n",
       "        vertical-align: middle;\n",
       "    }\n",
       "\n",
       "    .dataframe tbody tr th {\n",
       "        vertical-align: top;\n",
       "    }\n",
       "\n",
       "    .dataframe thead th {\n",
       "        text-align: right;\n",
       "    }\n",
       "</style>\n",
       "<table border=\"1\" class=\"dataframe\">\n",
       "  <thead>\n",
       "    <tr style=\"text-align: right;\">\n",
       "      <th></th>\n",
       "      <th>CountryName</th>\n",
       "      <th>CountryCode</th>\n",
       "      <th>IndicatorName</th>\n",
       "      <th>IndicatorCode</th>\n",
       "      <th>Year</th>\n",
       "      <th>Value</th>\n",
       "    </tr>\n",
       "  </thead>\n",
       "  <tbody>\n",
       "    <tr>\n",
       "      <th>2208738</th>\n",
       "      <td>Russian Federation</td>\n",
       "      <td>RUS</td>\n",
       "      <td>Arms exports (SIPRI trend indicator values)</td>\n",
       "      <td>MS.MIL.XPRT.KD</td>\n",
       "      <td>1992</td>\n",
       "      <td>2.613000e+09</td>\n",
       "    </tr>\n",
       "    <tr>\n",
       "      <th>2331884</th>\n",
       "      <td>Russian Federation</td>\n",
       "      <td>RUS</td>\n",
       "      <td>Arms exports (SIPRI trend indicator values)</td>\n",
       "      <td>MS.MIL.XPRT.KD</td>\n",
       "      <td>1993</td>\n",
       "      <td>3.442000e+09</td>\n",
       "    </tr>\n",
       "  </tbody>\n",
       "</table>\n",
       "</div>"
      ],
      "text/plain": [
       "                CountryName CountryCode  \\\n",
       "2208738  Russian Federation         RUS   \n",
       "2331884  Russian Federation         RUS   \n",
       "\n",
       "                                       IndicatorName   IndicatorCode  Year  \\\n",
       "2208738  Arms exports (SIPRI trend indicator values)  MS.MIL.XPRT.KD  1992   \n",
       "2331884  Arms exports (SIPRI trend indicator values)  MS.MIL.XPRT.KD  1993   \n",
       "\n",
       "                Value  \n",
       "2208738  2.613000e+09  \n",
       "2331884  3.442000e+09  "
      ]
     },
     "execution_count": 82,
     "metadata": {},
     "output_type": "execute_result"
    }
   ],
   "source": [
    "stage.head(2)"
   ]
  },
  {
   "cell_type": "code",
   "execution_count": 85,
   "metadata": {},
   "outputs": [
    {
     "data": {
      "image/png": "[encoded data removed]",
      "text/plain": [
       "<Figure size 432x288 with 1 Axes>"
      ]
     },
     "metadata": {},
     "output_type": "display_data"
    }
   ],
   "source": [
    "# switch to a line plot\n",
    "plt.plot(gdp_stage['Year'].values, gdp_stage['Value'].values)\n",
    "\n",
    "# Label the axes\n",
    "plt.xlabel('Year')\n",
    "plt.ylabel(gdp_stage['IndicatorName'].iloc[0])\n",
    "\n",
    "#label the figure\n",
    "plt.title('GDP Per Capita Rus')\n",
    "\n",
    "# to make more honest, start they y axis at 0\n",
    "#plt.axis([1959, 2011,0,25])\n",
    "\n",
    "plt.show()"
   ]
  },
  {
   "cell_type": "markdown",
   "metadata": {},
   "source": [
    "The GDP/cap decreased dramatically during the first decades of the after-Soviet period and keep an upeard trand from 2000 to 2014.\n",
    "Compare with data of Arm export during the first period, we can see that the Arm export values fluctuate obviously while with little increase during the first period. \n",
    "The arm export then began to level up when Russia's GDP per cap rised after 2000 but again bumped into a decrease turning point in 2014, when the GDP per cap also sufferd from a descend."
   ]
  },
  {
   "cell_type": "markdown",
   "metadata": {},
   "source": [
    "### ScatterPlot for comparing GDP against CO2 emissions (per capita)\n",
    "\n",
    "First, we'll need to make sure we're looking at the same time frames"
   ]
  },
  {
   "cell_type": "code",
   "execution_count": 86,
   "metadata": {},
   "outputs": [
    {
     "name": "stdout",
     "output_type": "stream",
     "text": [
      "GDP Min Year =  1989 max:  2014\n",
      "Arm export Min Year =  1992 max:  2014\n"
     ]
    }
   ],
   "source": [
    "print(\"GDP Min Year = \", gdp_stage['Year'].min(), \"max: \", gdp_stage['Year'].max())\n",
    "print(\"Arm export Min Year = \", stage['Year'].min(), \"max: \", stage['Year'].max())"
   ]
  },
  {
   "cell_type": "markdown",
   "metadata": {},
   "source": [
    "We have 3 extra years of GDP data, so let's trim those off so the scatterplot has equal length arrays to compare (this is actually required by scatterplot)"
   ]
  },
  {
   "cell_type": "code",
   "execution_count": 87,
   "metadata": {},
   "outputs": [
    {
     "name": "stdout",
     "output_type": "stream",
     "text": [
      "23\n",
      "23\n"
     ]
    }
   ],
   "source": [
    "gdp_stage_trunc = gdp_stage[gdp_stage['Year'] >= 1992]\n",
    "print(len(gdp_stage_trunc))\n",
    "print(len(stage))"
   ]
  },
  {
   "cell_type": "code",
   "execution_count": 88,
   "metadata": {},
   "outputs": [
    {
     "data": {
      "image/png": "[encoded data removed]",
      "text/plain": [
       "<Figure size 432x288 with 1 Axes>"
      ]
     },
     "metadata": {},
     "output_type": "display_data"
    }
   ],
   "source": [
    "%matplotlib inline\n",
    "import matplotlib.pyplot as plt\n",
    "\n",
    "fig, axis = plt.subplots()\n",
    "# Grid lines, Xticks, Xlabel, Ylabel\n",
    "\n",
    "axis.yaxis.grid(True)\n",
    "axis.set_title('Arms export vs. GDP \\(per capita\\)',fontsize=10)\n",
    "axis.set_xlabel(gdp_stage_trunc['IndicatorName'].iloc[0],fontsize=10)\n",
    "axis.set_ylabel(stage['IndicatorName'].iloc[0],fontsize=10)\n",
    "\n",
    "X = gdp_stage_trunc['Value']\n",
    "Y = stage['Value']\n",
    "\n",
    "axis.scatter(X, Y)\n",
    "plt.show()"
   ]
  },
  {
   "cell_type": "markdown",
   "metadata": {},
   "source": [
    "It seems that these two variables form a relationship to a certain extend because an obvious curve can be fit .  \n",
    "We can test this by looking at correlation."
   ]
  },
  {
   "cell_type": "code",
   "execution_count": 89,
   "metadata": {},
   "outputs": [
    {
     "data": {
      "text/plain": [
       "array([[1.        , 0.79836044],\n",
       "       [0.79836044, 1.        ]])"
      ]
     },
     "execution_count": 89,
     "metadata": {},
     "output_type": "execute_result"
    }
   ],
   "source": [
    "np.corrcoef(gdp_stage_trunc['Value'],stage['Value'])"
   ]
  },
  {
   "cell_type": "markdown",
   "metadata": {},
   "source": [
    "A correlation of nearly 0.8 is somehow strong"
   ]
  },
  {
   "cell_type": "markdown",
   "metadata": {
    "collapsed": true
   },
   "source": [
    "## Want more ? \n",
    "\n",
    "### Matplotlib Examples Library"
   ]
  },
  {
   "cell_type": "markdown",
   "metadata": {},
   "source": [
    "http://matplotlib.org/examples/index.html"
   ]
  },
  {
   "cell_type": "code",
   "execution_count": 29,
   "metadata": {},
   "outputs": [
    {
     "data": {
      "application/javascript": [
       "IPython.OutputArea.auto_scroll_threshold = 9999;"
      ],
      "text/plain": [
       "<IPython.core.display.Javascript object>"
      ]
     },
     "metadata": {},
     "output_type": "display_data"
    }
   ],
   "source": [
    "%%javascript\n",
    "IPython.OutputArea.auto_scroll_threshold = 9999;"
   ]
  }
 ],
 "metadata": {
  "kernelspec": {
   "display_name": "Python 3",
   "language": "python",
   "name": "python3"
  },
  "language_info": {
   "codemirror_mode": {
    "name": "ipython",
    "version": 3
   },
   "file_extension": ".py",
   "mimetype": "text/x-python",
   "name": "python",
   "nbconvert_exporter": "python",
   "pygments_lexer": "ipython3",
   "version": "3.6.5"
  }
 },
 "nbformat": 4,
 "nbformat_minor": 2
}
